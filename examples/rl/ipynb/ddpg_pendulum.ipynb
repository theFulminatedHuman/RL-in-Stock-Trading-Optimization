{
  "cells": [
    {
      "cell_type": "markdown",
      "metadata": {
        "id": "view-in-github",
        "colab_type": "text"
      },
      "source": [
        "<a href=\"https://colab.research.google.com/github/theFulminatedHuman/RL-in-Stock-Trading-Optimization/blob/main/examples/rl/ipynb/ddpg_pendulum.ipynb\" target=\"_parent\"><img src=\"https://colab.research.google.com/assets/colab-badge.svg\" alt=\"Open In Colab\"/></a>"
      ]
    },
    {
      "cell_type": "markdown",
      "metadata": {
        "id": "0qGN8_Z5sZXL"
      },
      "source": [
        "# Deep Deterministic Policy Gradient (DDPG)\n",
        "\n",
        "**Author:** [amifunny](https://github.com/amifunny)<br>\n",
        "**Date created:** 2020/06/04<br>\n",
        "**Last modified:** 2024/03/23<br>\n",
        "**Description:** Implementing DDPG algorithm on the Inverted Pendulum Problem."
      ]
    },
    {
      "cell_type": "markdown",
      "metadata": {
        "id": "9fdbf1CqsZXP"
      },
      "source": [
        "## Introduction\n",
        "\n",
        "**Deep Deterministic Policy Gradient (DDPG)** is a model-free off-policy algorithm for\n",
        "learning continuous actions.\n",
        "\n",
        "It combines ideas from DPG (Deterministic Policy Gradient) and DQN (Deep Q-Network).\n",
        "It uses Experience Replay and slow-learning target networks from DQN, and it is based on\n",
        "DPG, which can operate over continuous action spaces.\n",
        "\n",
        "This tutorial closely follow this paper -\n",
        "[Continuous control with deep reinforcement learning](https://arxiv.org/abs/1509.02971)\n",
        "\n",
        "## Problem\n",
        "\n",
        "We are trying to solve the classic **Inverted Pendulum** control problem.\n",
        "In this setting, we can take only two actions: swing left or swing right.\n",
        "\n",
        "What make this problem challenging for Q-Learning Algorithms is that actions\n",
        "are **continuous** instead of being **discrete**. That is, instead of using two\n",
        "discrete actions like `-1` or `+1`, we have to select from infinite actions\n",
        "ranging from `-2` to `+2`.\n",
        "\n",
        "## Quick theory\n",
        "\n",
        "Just like the Actor-Critic method, we have two networks:\n",
        "\n",
        "1. Actor - It proposes an action given a state.\n",
        "2. Critic - It predicts if the action is good (positive value) or bad (negative value)\n",
        "given a state and an action.\n",
        "\n",
        "DDPG uses two more techniques not present in the original DQN:\n",
        "\n",
        "**First, it uses two Target networks.**\n",
        "\n",
        "**Why?** Because it add stability to training. In short, we are learning from estimated\n",
        "targets and Target networks are updated slowly, hence keeping our estimated targets\n",
        "stable.\n",
        "\n",
        "Conceptually, this is like saying, \"I have an idea of how to play this well,\n",
        "I'm going to try it out for a bit until I find something better\",\n",
        "as opposed to saying \"I'm going to re-learn how to play this entire game after every\n",
        "move\".\n",
        "See this [StackOverflow answer](https://stackoverflow.com/a/54238556/13475679).\n",
        "\n",
        "**Second, it uses Experience Replay.**\n",
        "\n",
        "We store list of tuples `(state, action, reward, next_state)`, and instead of\n",
        "learning only from recent experience, we learn from sampling all of our experience\n",
        "accumulated so far.\n",
        "\n",
        "Now, let's see how is it implemented."
      ]
    },
    {
      "cell_type": "code",
      "source": [],
      "metadata": {
        "id": "rPIlwpJKsmzT"
      },
      "execution_count": null,
      "outputs": []
    },
    {
      "cell_type": "code",
      "execution_count": 1,
      "metadata": {
        "id": "JCsByy_dsZXQ"
      },
      "outputs": [],
      "source": [
        "import os\n",
        "\n",
        "os.environ[\"KERAS_BACKEND\"] = \"tensorflow\"\n",
        "\n",
        "import keras\n",
        "from keras import layers\n",
        "\n",
        "import tensorflow as tf\n",
        "import gymnasium as gym\n",
        "import numpy as np\n",
        "import matplotlib.pyplot as plt"
      ]
    },
    {
      "cell_type": "markdown",
      "metadata": {
        "id": "yqKXm1twsZXR"
      },
      "source": [
        "We use [Gymnasium](https://gymnasium.farama.org/) to create the environment.\n",
        "We will use the `upper_bound` parameter to scale our actions later."
      ]
    },
    {
      "cell_type": "code",
      "execution_count": 2,
      "metadata": {
        "id": "oK0SaKvNsZXR",
        "outputId": "7095ad9f-aa59-4d6b-acc5-69440b620a95",
        "colab": {
          "base_uri": "https://localhost:8080/"
        }
      },
      "outputs": [
        {
          "output_type": "stream",
          "name": "stdout",
          "text": [
            "Size of State Space ->  3\n",
            "Size of Action Space ->  1\n",
            "Max Value of Action ->  2.0\n",
            "Min Value of Action ->  -2.0\n"
          ]
        }
      ],
      "source": [
        "# Specify the `render_mode` parameter to show the attempts of the agent in a pop up window.\n",
        "env = gym.make(\"Pendulum-v1\", render_mode=\"human\")\n",
        "\n",
        "num_states = env.observation_space.shape[0]\n",
        "print(\"Size of State Space ->  {}\".format(num_states))\n",
        "num_actions = env.action_space.shape[0]\n",
        "print(\"Size of Action Space ->  {}\".format(num_actions))\n",
        "\n",
        "upper_bound = env.action_space.high[0]\n",
        "lower_bound = env.action_space.low[0]\n",
        "\n",
        "print(\"Max Value of Action ->  {}\".format(upper_bound))\n",
        "print(\"Min Value of Action ->  {}\".format(lower_bound))"
      ]
    },
    {
      "cell_type": "markdown",
      "metadata": {
        "id": "5slKBFhUsZXR"
      },
      "source": [
        "To implement better exploration by the Actor network, we use noisy perturbations,\n",
        "specifically\n",
        "an **Ornstein-Uhlenbeck process** for generating noise, as described in the paper.\n",
        "It samples noise from a correlated normal distribution."
      ]
    },
    {
      "cell_type": "code",
      "execution_count": 3,
      "metadata": {
        "id": "MHbQqcJdsZXS"
      },
      "outputs": [],
      "source": [
        "\n",
        "class OUActionNoise:\n",
        "    def __init__(self, mean, std_deviation, theta=0.15, dt=1e-2, x_initial=None):\n",
        "        self.theta = theta\n",
        "        self.mean = mean\n",
        "        self.std_dev = std_deviation\n",
        "        self.dt = dt\n",
        "        self.x_initial = x_initial\n",
        "        self.reset()\n",
        "\n",
        "    def __call__(self):\n",
        "        # Formula taken from https://www.wikipedia.org/wiki/Ornstein-Uhlenbeck_process\n",
        "        x = (\n",
        "            self.x_prev\n",
        "            + self.theta * (self.mean - self.x_prev) * self.dt\n",
        "            + self.std_dev * np.sqrt(self.dt) * np.random.normal(size=self.mean.shape)\n",
        "        )\n",
        "        # Store x into x_prev\n",
        "        # Makes next noise dependent on current one\n",
        "        self.x_prev = x\n",
        "        return x\n",
        "\n",
        "    def reset(self):\n",
        "        if self.x_initial is not None:\n",
        "            self.x_prev = self.x_initial\n",
        "        else:\n",
        "            self.x_prev = np.zeros_like(self.mean)\n"
      ]
    },
    {
      "cell_type": "markdown",
      "metadata": {
        "id": "gHQ6SuKusZXS"
      },
      "source": [
        "The `Buffer` class implements Experience Replay.\n",
        "\n",
        "---\n",
        "![Algorithm](https://i.imgur.com/mS6iGyJ.jpg)\n",
        "---\n",
        "\n",
        "\n",
        "**Critic loss** - Mean Squared Error of `y - Q(s, a)`\n",
        "where `y` is the expected return as seen by the Target network,\n",
        "and `Q(s, a)` is action value predicted by the Critic network. `y` is a moving target\n",
        "that the critic model tries to achieve; we make this target\n",
        "stable by updating the Target model slowly.\n",
        "\n",
        "**Actor loss** - This is computed using the mean of the value given by the Critic network\n",
        "for the actions taken by the Actor network. We seek to maximize this quantity.\n",
        "\n",
        "Hence we update the Actor network so that it produces actions that get\n",
        "the maximum predicted value as seen by the Critic, for a given state."
      ]
    },
    {
      "cell_type": "code",
      "execution_count": 4,
      "metadata": {
        "id": "IQSoiyGGsZXT"
      },
      "outputs": [],
      "source": [
        "\n",
        "class Buffer:\n",
        "    def __init__(self, buffer_capacity=100000, batch_size=64):\n",
        "        # Number of \"experiences\" to store at max\n",
        "        self.buffer_capacity = buffer_capacity\n",
        "        # Num of tuples to train on.\n",
        "        self.batch_size = batch_size\n",
        "\n",
        "        # Its tells us num of times record() was called.\n",
        "        self.buffer_counter = 0\n",
        "\n",
        "        # Instead of list of tuples as the exp.replay concept go\n",
        "        # We use different np.arrays for each tuple element\n",
        "        self.state_buffer = np.zeros((self.buffer_capacity, num_states))\n",
        "        self.action_buffer = np.zeros((self.buffer_capacity, num_actions))\n",
        "        self.reward_buffer = np.zeros((self.buffer_capacity, 1))\n",
        "        self.next_state_buffer = np.zeros((self.buffer_capacity, num_states))\n",
        "\n",
        "    # Takes (s,a,r,s') observation tuple as input\n",
        "    def record(self, obs_tuple):\n",
        "        # Set index to zero if buffer_capacity is exceeded,\n",
        "        # replacing old records\n",
        "        index = self.buffer_counter % self.buffer_capacity\n",
        "\n",
        "        self.state_buffer[index] = obs_tuple[0]\n",
        "        self.action_buffer[index] = obs_tuple[1]\n",
        "        self.reward_buffer[index] = obs_tuple[2]\n",
        "        self.next_state_buffer[index] = obs_tuple[3]\n",
        "\n",
        "        self.buffer_counter += 1\n",
        "\n",
        "    # Eager execution is turned on by default in TensorFlow 2. Decorating with tf.function allows\n",
        "    # TensorFlow to build a static graph out of the logic and computations in our function.\n",
        "    # This provides a large speed up for blocks of code that contain many small TensorFlow operations such as this one.\n",
        "    @tf.function\n",
        "    def update(\n",
        "        self,\n",
        "        state_batch,\n",
        "        action_batch,\n",
        "        reward_batch,\n",
        "        next_state_batch,\n",
        "    ):\n",
        "        # Training and updating Actor & Critic networks.\n",
        "        # See Pseudo Code.\n",
        "        with tf.GradientTape() as tape:\n",
        "            target_actions = target_actor(next_state_batch, training=True)\n",
        "            y = reward_batch + gamma * target_critic(\n",
        "                [next_state_batch, target_actions], training=True\n",
        "            )\n",
        "            critic_value = critic_model([state_batch, action_batch], training=True)\n",
        "            critic_loss = keras.ops.mean(keras.ops.square(y - critic_value))\n",
        "\n",
        "        critic_grad = tape.gradient(critic_loss, critic_model.trainable_variables)\n",
        "        critic_optimizer.apply_gradients(\n",
        "            zip(critic_grad, critic_model.trainable_variables)\n",
        "        )\n",
        "\n",
        "        with tf.GradientTape() as tape:\n",
        "            actions = actor_model(state_batch, training=True)\n",
        "            critic_value = critic_model([state_batch, actions], training=True)\n",
        "            # Used `-value` as we want to maximize the value given\n",
        "            # by the critic for our actions\n",
        "            actor_loss = -keras.ops.mean(critic_value)\n",
        "\n",
        "        actor_grad = tape.gradient(actor_loss, actor_model.trainable_variables)\n",
        "        actor_optimizer.apply_gradients(\n",
        "            zip(actor_grad, actor_model.trainable_variables)\n",
        "        )\n",
        "\n",
        "    # We compute the loss and update parameters\n",
        "    def learn(self):\n",
        "        # Get sampling range\n",
        "        record_range = min(self.buffer_counter, self.buffer_capacity)\n",
        "        # Randomly sample indices\n",
        "        batch_indices = np.random.choice(record_range, self.batch_size)\n",
        "\n",
        "        # Convert to tensors\n",
        "        state_batch = keras.ops.convert_to_tensor(self.state_buffer[batch_indices])\n",
        "        action_batch = keras.ops.convert_to_tensor(self.action_buffer[batch_indices])\n",
        "        reward_batch = keras.ops.convert_to_tensor(self.reward_buffer[batch_indices])\n",
        "        reward_batch = keras.ops.cast(reward_batch, dtype=\"float32\")\n",
        "        next_state_batch = keras.ops.convert_to_tensor(\n",
        "            self.next_state_buffer[batch_indices]\n",
        "        )\n",
        "\n",
        "        self.update(state_batch, action_batch, reward_batch, next_state_batch)\n",
        "\n",
        "\n",
        "# This update target parameters slowly\n",
        "# Based on rate `tau`, which is much less than one.\n",
        "def update_target(target, original, tau):\n",
        "    target_weights = target.get_weights()\n",
        "    original_weights = original.get_weights()\n",
        "\n",
        "    for i in range(len(target_weights)):\n",
        "        target_weights[i] = original_weights[i] * tau + target_weights[i] * (1 - tau)\n",
        "\n",
        "    target.set_weights(target_weights)\n"
      ]
    },
    {
      "cell_type": "markdown",
      "metadata": {
        "id": "nCrsJF7gsZXU"
      },
      "source": [
        "Here we define the Actor and Critic networks. These are basic Dense models\n",
        "with `ReLU` activation.\n",
        "\n",
        "Note: We need the initialization for last layer of the Actor to be between\n",
        "`-0.003` and `0.003` as this prevents us from getting `1` or `-1` output values in\n",
        "the initial stages, which would squash our gradients to zero,\n",
        "as we use the `tanh` activation."
      ]
    },
    {
      "cell_type": "code",
      "execution_count": 5,
      "metadata": {
        "id": "mqm_tc-EsZXU"
      },
      "outputs": [],
      "source": [
        "\n",
        "def get_actor():\n",
        "    # Initialize weights between -3e-3 and 3-e3\n",
        "    last_init = keras.initializers.RandomUniform(minval=-0.003, maxval=0.003)\n",
        "\n",
        "    inputs = layers.Input(shape=(num_states,))\n",
        "    out = layers.Dense(256, activation=\"relu\")(inputs)\n",
        "    out = layers.Dense(256, activation=\"relu\")(out)\n",
        "    outputs = layers.Dense(1, activation=\"tanh\", kernel_initializer=last_init)(out)\n",
        "\n",
        "    # Our upper bound is 2.0 for Pendulum.\n",
        "    outputs = outputs * upper_bound\n",
        "    model = keras.Model(inputs, outputs)\n",
        "    return model\n",
        "\n",
        "\n",
        "def get_critic():\n",
        "    # State as input\n",
        "    state_input = layers.Input(shape=(num_states,))\n",
        "    state_out = layers.Dense(16, activation=\"relu\")(state_input)\n",
        "    state_out = layers.Dense(32, activation=\"relu\")(state_out)\n",
        "\n",
        "    # Action as input\n",
        "    action_input = layers.Input(shape=(num_actions,))\n",
        "    action_out = layers.Dense(32, activation=\"relu\")(action_input)\n",
        "\n",
        "    # Both are passed through separate layer before concatenating\n",
        "    concat = layers.Concatenate()([state_out, action_out])\n",
        "\n",
        "    out = layers.Dense(256, activation=\"relu\")(concat)\n",
        "    out = layers.Dense(256, activation=\"relu\")(out)\n",
        "    outputs = layers.Dense(1)(out)\n",
        "\n",
        "    # Outputs single value for give state-action\n",
        "    model = keras.Model([state_input, action_input], outputs)\n",
        "\n",
        "    return model\n"
      ]
    },
    {
      "cell_type": "markdown",
      "metadata": {
        "id": "FR_nFUCGsZXV"
      },
      "source": [
        "`policy()` returns an action sampled from our Actor network plus some noise for\n",
        "exploration."
      ]
    },
    {
      "cell_type": "code",
      "execution_count": 6,
      "metadata": {
        "id": "nlwfT8hqsZXV"
      },
      "outputs": [],
      "source": [
        "\n",
        "def policy(state, noise_object):\n",
        "    sampled_actions = keras.ops.squeeze(actor_model(state))\n",
        "    noise = noise_object()\n",
        "    # Adding noise to action\n",
        "    sampled_actions = sampled_actions.numpy() + noise\n",
        "\n",
        "    # We make sure action is within bounds\n",
        "    legal_action = np.clip(sampled_actions, lower_bound, upper_bound)\n",
        "\n",
        "    return [np.squeeze(legal_action)]\n"
      ]
    },
    {
      "cell_type": "markdown",
      "metadata": {
        "id": "j5l-A_3OsZXW"
      },
      "source": [
        "## Training hyperparameters"
      ]
    },
    {
      "cell_type": "code",
      "execution_count": 7,
      "metadata": {
        "id": "ojirRaLEsZXW"
      },
      "outputs": [],
      "source": [
        "std_dev = 0.2\n",
        "ou_noise = OUActionNoise(mean=np.zeros(1), std_deviation=float(std_dev) * np.ones(1))\n",
        "\n",
        "actor_model = get_actor()\n",
        "critic_model = get_critic()\n",
        "\n",
        "target_actor = get_actor()\n",
        "target_critic = get_critic()\n",
        "\n",
        "# Making the weights equal initially\n",
        "target_actor.set_weights(actor_model.get_weights())\n",
        "target_critic.set_weights(critic_model.get_weights())\n",
        "\n",
        "# Learning rate for actor-critic models\n",
        "critic_lr = 0.002\n",
        "actor_lr = 0.001\n",
        "\n",
        "critic_optimizer = keras.optimizers.Adam(critic_lr)\n",
        "actor_optimizer = keras.optimizers.Adam(actor_lr)\n",
        "\n",
        "total_episodes = 100\n",
        "# Discount factor for future rewards\n",
        "gamma = 0.99\n",
        "# Used to update target networks\n",
        "tau = 0.005\n",
        "\n",
        "buffer = Buffer(50000, 64)"
      ]
    },
    {
      "cell_type": "markdown",
      "metadata": {
        "id": "XZBBENnZsZXW"
      },
      "source": [
        "Now we implement our main training loop, and iterate over episodes.\n",
        "We sample actions using `policy()` and train with `learn()` at each time step,\n",
        "along with updating the Target networks at a rate `tau`."
      ]
    },
    {
      "cell_type": "code",
      "execution_count": 8,
      "metadata": {
        "id": "_C49bN5rsZXW",
        "outputId": "78fbab48-c7c0-4b45-8ed9-a88f2d485bbf",
        "colab": {
          "base_uri": "https://localhost:8080/",
          "height": 1000
        }
      },
      "outputs": [
        {
          "output_type": "stream",
          "name": "stdout",
          "text": [
            "Episode * 0 * Avg Reward is ==> -1827.2166702741158\n",
            "Episode * 1 * Avg Reward is ==> -1556.3825761163353\n",
            "Episode * 2 * Avg Reward is ==> -1532.0433823242356\n",
            "Episode * 3 * Avg Reward is ==> -1514.303926479296\n",
            "Episode * 4 * Avg Reward is ==> -1528.290304512148\n",
            "Episode * 5 * Avg Reward is ==> -1541.741136207671\n",
            "Episode * 6 * Avg Reward is ==> -1538.7628483693063\n",
            "Episode * 7 * Avg Reward is ==> -1534.8741756314096\n",
            "Episode * 8 * Avg Reward is ==> -1480.7484540091168\n",
            "Episode * 9 * Avg Reward is ==> -1440.006183125723\n",
            "Episode * 10 * Avg Reward is ==> -1395.740528330107\n",
            "Episode * 11 * Avg Reward is ==> -1372.582693735281\n",
            "Episode * 12 * Avg Reward is ==> -1363.7142992975569\n",
            "Episode * 13 * Avg Reward is ==> -1376.4216248082953\n",
            "Episode * 14 * Avg Reward is ==> -1389.188443795592\n",
            "Episode * 15 * Avg Reward is ==> -1399.5130725681229\n",
            "Episode * 16 * Avg Reward is ==> -1403.191150001108\n",
            "Episode * 17 * Avg Reward is ==> -1406.1583184244316\n",
            "Episode * 18 * Avg Reward is ==> -1417.8918744925013\n",
            "Episode * 19 * Avg Reward is ==> -1425.8103853714688\n",
            "Episode * 20 * Avg Reward is ==> -1428.82712653452\n",
            "Episode * 21 * Avg Reward is ==> -1380.6248065992438\n",
            "Episode * 22 * Avg Reward is ==> -1331.297573188617\n",
            "Episode * 23 * Avg Reward is ==> -1281.060609532686\n",
            "Episode * 24 * Avg Reward is ==> -1249.0027749128067\n",
            "Episode * 25 * Avg Reward is ==> -1210.1332098281748\n",
            "Episode * 26 * Avg Reward is ==> -1170.0094769755312\n",
            "Episode * 27 * Avg Reward is ==> -1132.6521191077159\n",
            "Episode * 28 * Avg Reward is ==> -1093.6252480915575\n",
            "Episode * 29 * Avg Reward is ==> -1057.225431978563\n",
            "Episode * 30 * Avg Reward is ==> -1027.0386085730274\n",
            "Episode * 31 * Avg Reward is ==> -998.83153764476\n",
            "Episode * 32 * Avg Reward is ==> -972.5163856646619\n",
            "Episode * 33 * Avg Reward is ==> -947.5538557356415\n",
            "Episode * 34 * Avg Reward is ==> -924.0942678202828\n",
            "Episode * 35 * Avg Reward is ==> -901.8585618714433\n",
            "Episode * 36 * Avg Reward is ==> -880.6313198602887\n",
            "Episode * 37 * Avg Reward is ==> -857.4702053123996\n",
            "Episode * 38 * Avg Reward is ==> -838.4729507270578\n",
            "Episode * 39 * Avg Reward is ==> -817.5163516048555\n",
            "Episode * 40 * Avg Reward is ==> -809.9075313821677\n",
            "Episode * 41 * Avg Reward is ==> -780.7335149689501\n",
            "Episode * 42 * Avg Reward is ==> -753.1915416720294\n",
            "Episode * 43 * Avg Reward is ==> -725.9243442946051\n",
            "Episode * 44 * Avg Reward is ==> -689.2135650963506\n",
            "Episode * 45 * Avg Reward is ==> -657.6390780307862\n",
            "Episode * 46 * Avg Reward is ==> -622.7902583858782\n",
            "Episode * 47 * Avg Reward is ==> -588.1995552371718\n",
            "Episode * 48 * Avg Reward is ==> -565.22748131695\n",
            "Episode * 49 * Avg Reward is ==> -541.3520466934397\n",
            "Episode * 50 * Avg Reward is ==> -517.531253580247\n",
            "Episode * 51 * Avg Reward is ==> -492.5861813596015\n",
            "Episode * 52 * Avg Reward is ==> -464.2964593752363\n",
            "Episode * 53 * Avg Reward is ==> -428.9824756664997\n",
            "Episode * 54 * Avg Reward is ==> -392.98178340405127\n",
            "Episode * 55 * Avg Reward is ==> -360.0768220651465\n",
            "Episode * 56 * Avg Reward is ==> -326.71838053198866\n",
            "Episode * 57 * Avg Reward is ==> -293.4302111940539\n",
            "Episode * 58 * Avg Reward is ==> -255.80692362444952\n",
            "Episode * 59 * Avg Reward is ==> -216.54273036142254\n",
            "Episode * 60 * Avg Reward is ==> -179.42188303453207\n",
            "Episode * 61 * Avg Reward is ==> -176.11067773054785\n",
            "Episode * 62 * Avg Reward is ==> -173.1613180063369\n",
            "Episode * 63 * Avg Reward is ==> -170.14618290195446\n",
            "Episode * 64 * Avg Reward is ==> -164.05717316845335\n",
            "Episode * 65 * Avg Reward is ==> -167.1227192620983\n",
            "Episode * 66 * Avg Reward is ==> -173.504052666605\n",
            "Episode * 67 * Avg Reward is ==> -179.94897698081155\n",
            "Episode * 68 * Avg Reward is ==> -186.02882540925305\n",
            "Episode * 69 * Avg Reward is ==> -189.01391317441133\n",
            "Episode * 70 * Avg Reward is ==> -186.031072553916\n",
            "Episode * 71 * Avg Reward is ==> -182.95066947805805\n",
            "Episode * 72 * Avg Reward is ==> -186.04858308857075\n",
            "Episode * 73 * Avg Reward is ==> -183.00527298057617\n",
            "Episode * 74 * Avg Reward is ==> -185.58393741597925\n",
            "Episode * 75 * Avg Reward is ==> -191.03588604963306\n",
            "Episode * 76 * Avg Reward is ==> -191.3690435412022\n",
            "Episode * 77 * Avg Reward is ==> -197.14522041193715\n",
            "Episode * 78 * Avg Reward is ==> -197.24567340581387\n",
            "Episode * 79 * Avg Reward is ==> -200.12398744350526\n",
            "Episode * 80 * Avg Reward is ==> -162.0867889989911\n",
            "Episode * 81 * Avg Reward is ==> -159.250481717214\n",
            "Episode * 82 * Avg Reward is ==> -155.59510456504847\n",
            "Episode * 83 * Avg Reward is ==> -149.31613091653284\n",
            "Episode * 84 * Avg Reward is ==> -152.1784850261999\n",
            "Episode * 85 * Avg Reward is ==> -146.58696912638052\n",
            "Episode * 86 * Avg Reward is ==> -146.41524130436434\n",
            "Episode * 87 * Avg Reward is ==> -149.55821157413683\n",
            "Episode * 88 * Avg Reward is ==> -149.6780981711336\n",
            "Episode * 89 * Avg Reward is ==> -152.68683797840998\n",
            "Episode * 90 * Avg Reward is ==> -155.84322567110516\n",
            "Episode * 91 * Avg Reward is ==> -156.08656134949948\n",
            "Episode * 92 * Avg Reward is ==> -156.1294742714574\n",
            "Episode * 93 * Avg Reward is ==> -152.95940765515604\n",
            "Episode * 94 * Avg Reward is ==> -155.60732357132844\n",
            "Episode * 95 * Avg Reward is ==> -155.86172611010014\n",
            "Episode * 96 * Avg Reward is ==> -152.75471691917133\n",
            "Episode * 97 * Avg Reward is ==> -152.67705044072858\n",
            "Episode * 98 * Avg Reward is ==> -152.6176531335369\n",
            "Episode * 99 * Avg Reward is ==> -158.28103037288915\n"
          ]
        },
        {
          "output_type": "display_data",
          "data": {
            "text/plain": [
              "<Figure size 640x480 with 1 Axes>"
            ],
            "image/png": "[encoded data removed]"
          },
          "metadata": {}
        }
      ],
      "source": [
        "# To store reward history of each episode\n",
        "ep_reward_list = []\n",
        "# To store average reward history of last few episodes\n",
        "avg_reward_list = []\n",
        "\n",
        "# Takes about 4 min to train\n",
        "for ep in range(total_episodes):\n",
        "    prev_state, _ = env.reset()\n",
        "    episodic_reward = 0\n",
        "\n",
        "    while True:\n",
        "        tf_prev_state = keras.ops.expand_dims(\n",
        "            keras.ops.convert_to_tensor(prev_state), 0\n",
        "        )\n",
        "\n",
        "        action = policy(tf_prev_state, ou_noise)\n",
        "        # Receive state and reward from environment.\n",
        "        state, reward, done, truncated, _ = env.step(action)\n",
        "\n",
        "        buffer.record((prev_state, action, reward, state))\n",
        "        episodic_reward += reward\n",
        "\n",
        "        buffer.learn()\n",
        "\n",
        "        update_target(target_actor, actor_model, tau)\n",
        "        update_target(target_critic, critic_model, tau)\n",
        "\n",
        "        # End this episode when `done` or `truncated` is True\n",
        "        if done or truncated:\n",
        "            break\n",
        "\n",
        "        prev_state = state\n",
        "\n",
        "    ep_reward_list.append(episodic_reward)\n",
        "\n",
        "    # Mean of last 40 episodes\n",
        "    avg_reward = np.mean(ep_reward_list[-40:])\n",
        "    print(\"Episode * {} * Avg Reward is ==> {}\".format(ep, avg_reward))\n",
        "    avg_reward_list.append(avg_reward)\n",
        "\n",
        "# Plotting graph\n",
        "# Episodes versus Avg. Rewards\n",
        "plt.plot(avg_reward_list)\n",
        "plt.xlabel(\"Episode\")\n",
        "plt.ylabel(\"Avg. Episodic Reward\")\n",
        "plt.show()"
      ]
    },
    {
      "cell_type": "markdown",
      "metadata": {
        "id": "exE1a6wgsZXW"
      },
      "source": [
        "If training proceeds correctly, the average episodic reward will increase with time.\n",
        "\n",
        "Feel free to try different learning rates, `tau` values, and architectures for the\n",
        "Actor and Critic networks.\n",
        "\n",
        "The Inverted Pendulum problem has low complexity, but DDPG work great on many other\n",
        "problems.\n",
        "\n",
        "Another great environment to try this on is `LunarLander-v2` continuous, but it will take\n",
        "more episodes to obtain good results."
      ]
    },
    {
      "cell_type": "code",
      "execution_count": 9,
      "metadata": {
        "id": "Nrhls2oCsZXW"
      },
      "outputs": [],
      "source": [
        "# Save the weights\n",
        "actor_model.save_weights(\"pendulum_actor.weights.h5\")\n",
        "critic_model.save_weights(\"pendulum_critic.weights.h5\")\n",
        "\n",
        "target_actor.save_weights(\"pendulum_target_actor.weights.h5\")\n",
        "target_critic.save_weights(\"pendulum_target_critic.weights.h5\")"
      ]
    },
    {
      "cell_type": "markdown",
      "metadata": {
        "id": "WKD_lG0QsZXX"
      },
      "source": [
        "Before Training:\n",
        "\n",
        "![before_img](https://i.imgur.com/ox6b9rC.gif)"
      ]
    },
    {
      "cell_type": "markdown",
      "metadata": {
        "id": "Nrtpd3pgsZXX"
      },
      "source": [
        "After 100 episodes:\n",
        "\n",
        "![after_img](https://i.imgur.com/eEH8Cz6.gif)"
      ]
    },
    {
      "cell_type": "code",
      "source": [],
      "metadata": {
        "id": "nFiR1J5WsovX"
      },
      "execution_count": 9,
      "outputs": []
    }
  ],
  "metadata": {
    "accelerator": "GPU",
    "colab": {
      "name": "ddpg_pendulum",
      "provenance": [],
      "gpuType": "T4",
      "include_colab_link": true
    },
    "kernelspec": {
      "display_name": "Python 3",
      "name": "python3"
    },
    "language_info": {
      "codemirror_mode": {
        "name": "ipython",
        "version": 3
      },
      "file_extension": ".py",
      "mimetype": "text/x-python",
      "name": "python",
      "nbconvert_exporter": "python",
      "pygments_lexer": "ipython3",
      "version": "3.7.0"
    }
  },
  "nbformat": 4,
  "nbformat_minor": 0
}